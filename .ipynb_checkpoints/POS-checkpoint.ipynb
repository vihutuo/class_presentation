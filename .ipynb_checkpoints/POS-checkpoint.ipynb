{
 "cells": [
  {
   "cell_type": "code",
   "execution_count": null,
   "id": "00e4a710",
   "metadata": {},
   "outputs": [],
   "source": [
    "import cl_pr\n",
    "from IPython.display import clear_output\n",
    "\n",
    "import sys\n",
    "def ShowMenu():\n",
    "    print(\"1.View Student Details\")\n",
    "    print(\"2.Spend Tokens\")\n",
    "    print(\"0.Exit\")\n",
    "    c=int(input(\"Enter choice : \"))\n",
    "    return c\n",
    "def ViewStudentDetails():\n",
    "    student_id=int(input(\"Enter student id : \"))\n",
    "    try:\n",
    "        x=cl_pr.GetStudentDetails(student_id)\n",
    "        print(x)\n",
    "        print(\"Token Balance : \",x[\"tokens\"] )\n",
    "        \n",
    "    except:\n",
    "        print(\"Connection error\")\n",
    "    try:\n",
    "        cl_pr.ShowTokenTransactions(student_id)\n",
    "    except:\n",
    "        print(\"Connection error\")\n",
    "def SpendTokens():\n",
    "    student_id=int(input(\"Enter student id : \"))\n",
    "    tokens=int(input(\"Enter tokens to spend : \"))\n",
    "    tokens=abs(tokens)\n",
    "    try:\n",
    "        x=cl_pr.AddTokens(student_id,-tokens,\"Spend\")\n",
    "        print(x)\n",
    "    except:\n",
    "        print(\"Connection error\")\n",
    "ch =1\n",
    "while ch != 0:\n",
    "    clear_output()\n",
    "    ch=ShowMenu()\n",
    "    sys.stdout.flush()\n",
    "    if ch == 1:\n",
    "        ViewStudentDetails()\n",
    "        input(\"Press Enter to continue\")\n",
    "        \n",
    "    elif ch == 2:\n",
    "        SpendTokens()\n",
    "        input(\"Press Enter to continue\")\n",
    "    elif ch == 0:\n",
    "        pass\n",
    "    else:\n",
    "        print(\"Invalid choice\")\n",
    "print(\"Program ended\")        "
   ]
  },
  {
   "cell_type": "code",
   "execution_count": null,
   "id": "03f6642c",
   "metadata": {},
   "outputs": [],
   "source": []
  }
 ],
 "metadata": {
  "kernelspec": {
   "display_name": "Python 3",
   "language": "python",
   "name": "python3"
  },
  "language_info": {
   "codemirror_mode": {
    "name": "ipython",
    "version": 3
   },
   "file_extension": ".py",
   "mimetype": "text/x-python",
   "name": "python",
   "nbconvert_exporter": "python",
   "pygments_lexer": "ipython3",
   "version": "3.8.8"
  }
 },
 "nbformat": 4,
 "nbformat_minor": 5
}
