{
 "cells": [
  {
   "cell_type": "code",
   "execution_count": 4,
   "id": "17a5faa2",
   "metadata": {},
   "outputs": [
    {
     "name": "stdout",
     "output_type": "stream",
     "text": [
      "1.View Student Details\n",
      "2.Spend Tokens\n",
      "3.Show Recent Transactions\n",
      "4.Show Total Tokens Issued\n",
      "0.Exit\n",
      "Enter choice : \n"
     ]
    },
    {
     "ename": "ValueError",
     "evalue": "invalid literal for int() with base 10: ''",
     "output_type": "error",
     "traceback": [
      "\u001b[1;31m---------------------------------------------------------------------------\u001b[0m",
      "\u001b[1;31mValueError\u001b[0m                                Traceback (most recent call last)",
      "\u001b[1;32m<ipython-input-4-3f6517c99f20>\u001b[0m in \u001b[0;36m<module>\u001b[1;34m\u001b[0m\n\u001b[0;32m     68\u001b[0m \u001b[1;32mwhile\u001b[0m \u001b[0mch\u001b[0m \u001b[1;33m!=\u001b[0m \u001b[1;36m0\u001b[0m\u001b[1;33m:\u001b[0m\u001b[1;33m\u001b[0m\u001b[1;33m\u001b[0m\u001b[0m\n\u001b[0;32m     69\u001b[0m     \u001b[0mclear_output\u001b[0m\u001b[1;33m(\u001b[0m\u001b[1;33m)\u001b[0m\u001b[1;33m\u001b[0m\u001b[1;33m\u001b[0m\u001b[0m\n\u001b[1;32m---> 70\u001b[1;33m     \u001b[0mch\u001b[0m\u001b[1;33m=\u001b[0m\u001b[0mShowMenu\u001b[0m\u001b[1;33m(\u001b[0m\u001b[1;33m)\u001b[0m\u001b[1;33m\u001b[0m\u001b[1;33m\u001b[0m\u001b[0m\n\u001b[0m\u001b[0;32m     71\u001b[0m \u001b[1;33m\u001b[0m\u001b[0m\n\u001b[0;32m     72\u001b[0m     \u001b[1;32mif\u001b[0m \u001b[0mch\u001b[0m \u001b[1;33m==\u001b[0m \u001b[1;36m1\u001b[0m\u001b[1;33m:\u001b[0m\u001b[1;33m\u001b[0m\u001b[1;33m\u001b[0m\u001b[0m\n",
      "\u001b[1;32m<ipython-input-4-3f6517c99f20>\u001b[0m in \u001b[0;36mShowMenu\u001b[1;34m()\u001b[0m\n\u001b[0;32m     10\u001b[0m     \u001b[0mprint\u001b[0m\u001b[1;33m(\u001b[0m\u001b[1;34m\"0.Exit\"\u001b[0m\u001b[1;33m)\u001b[0m\u001b[1;33m\u001b[0m\u001b[1;33m\u001b[0m\u001b[0m\n\u001b[0;32m     11\u001b[0m     \u001b[0msys\u001b[0m\u001b[1;33m.\u001b[0m\u001b[0mstdout\u001b[0m\u001b[1;33m.\u001b[0m\u001b[0mflush\u001b[0m\u001b[1;33m(\u001b[0m\u001b[1;33m)\u001b[0m\u001b[1;33m\u001b[0m\u001b[1;33m\u001b[0m\u001b[0m\n\u001b[1;32m---> 12\u001b[1;33m     \u001b[0mc\u001b[0m\u001b[1;33m=\u001b[0m\u001b[0mint\u001b[0m\u001b[1;33m(\u001b[0m\u001b[0minput\u001b[0m\u001b[1;33m(\u001b[0m\u001b[1;34m\"Enter choice : \"\u001b[0m\u001b[1;33m)\u001b[0m\u001b[1;33m)\u001b[0m\u001b[1;33m\u001b[0m\u001b[1;33m\u001b[0m\u001b[0m\n\u001b[0m\u001b[0;32m     13\u001b[0m     \u001b[1;32mreturn\u001b[0m \u001b[0mc\u001b[0m\u001b[1;33m\u001b[0m\u001b[1;33m\u001b[0m\u001b[0m\n\u001b[0;32m     14\u001b[0m \u001b[1;32mdef\u001b[0m \u001b[0mViewStudentDetails\u001b[0m\u001b[1;33m(\u001b[0m\u001b[1;33m)\u001b[0m\u001b[1;33m:\u001b[0m\u001b[1;33m\u001b[0m\u001b[1;33m\u001b[0m\u001b[0m\n",
      "\u001b[1;31mValueError\u001b[0m: invalid literal for int() with base 10: ''"
     ]
    }
   ],
   "source": [
    "import cl_pr\n",
    "from IPython.display import clear_output\n",
    "from colorama import Fore, Back, Style,init\n",
    "import sys\n",
    "def ShowMenu():\n",
    "    print(\"1.View Student Details\")\n",
    "    print(\"2.Spend Tokens\")\n",
    "    print(\"3.Show Recent Transactions\")\n",
    "    print(\"4.Show Total Tokens Issued\")\n",
    "    print(\"0.Exit\")\n",
    "    sys.stdout.flush()\n",
    "    c=int(input(\"Enter choice : \"))\n",
    "    return c\n",
    "def ViewStudentDetails():\n",
    "        student_id=int(input(\"Enter student id : \"))\n",
    "        try:\n",
    "            x=cl_pr.GetStudentDetails(student_id)\n",
    "        except:\n",
    "            print(\"Connection Error\")\n",
    "            return\n",
    "        if x[\"status\"] == 1:\n",
    "            if x[\"tokens\"] is None:\n",
    "                x[\"tokens\"] = 0\n",
    "            if x[\"total_tokens_earned\"] is None:\n",
    "                x[\"total_tokens_earned\"] = 0    \n",
    "            if x[\"tokens\"] <=0:\n",
    "               print(Fore.RED + \"Token Balance : \",Fore.RED + str(x[\"tokens\"]) )\n",
    "\n",
    "            else:\n",
    "               print(Fore.GREEN + \"Token Balance : \",Fore.GREEN + str(x[\"tokens\"]) )\n",
    "            print(Fore.BLACK)\n",
    "        print(x)\n",
    "        #print(\"Connection error\")\n",
    "        try:\n",
    "            cl_pr.ShowTokenTransactions(student_id)\n",
    "        except:\n",
    "            print(\"Connection Error\")\n",
    "            return    \n",
    "            \n",
    "   \n",
    "        #print(\"Connection error\")\n",
    "def SpendTokens():\n",
    "    student_id=int(input(\"Enter student id : \"))\n",
    "    tokens=int(input(\"Enter tokens to spend : \"))\n",
    "    tokens=abs(tokens)\n",
    "    try:\n",
    "        x=cl_pr.AddTokens(student_id,-tokens,\"Spend\")\n",
    "        print(x)\n",
    "    except:\n",
    "        print(\"Connection error\")\n",
    "def ShowRecentTransactions():\n",
    "    try:\n",
    "        cl_pr.ShowRecentTokenTransactions(50)\n",
    "        \n",
    "    except:\n",
    "        print(\"Connection error\")  \n",
    "def ShowTotalTokensIssued():\n",
    "    try:\n",
    "        cl_pr.ShowTotalTokensIssued()\n",
    "        \n",
    "    except:\n",
    "        print(\"Connection error\")        \n",
    "                \n",
    "        \n",
    "ch =1\n",
    "#init(autoreset=True) #colorama\n",
    "\n",
    "while ch != 0:\n",
    "    clear_output()\n",
    "    ch=ShowMenu()\n",
    "   \n",
    "    if ch == 1:\n",
    "        ViewStudentDetails()\n",
    "        input(\"Press Enter to continue\")\n",
    "        \n",
    "    elif ch == 2:\n",
    "        SpendTokens()\n",
    "        input(\"Press Enter to continue\")\n",
    "    elif ch == 3:\n",
    "        ShowRecentTransactions()\n",
    "        input(\"Press Enter to continue\")\n",
    "    elif ch == 4:\n",
    "        ShowTotalTokensIssued()\n",
    "        input(\"Press Enter to continue\")     \n",
    "    elif ch == 0:\n",
    "        pass\n",
    "    else:\n",
    "        print(\"Invalid choice\")\n",
    "print(\"Program ended\")        "
   ]
  },
  {
   "cell_type": "code",
   "execution_count": 12,
   "id": "47c3c3c1",
   "metadata": {},
   "outputs": [
    {
     "data": {
      "image/png": "[encoded data removed]",
      "text/plain": [
       "<Figure size 432x288 with 1 Axes>"
      ]
     },
     "metadata": {
      "needs_background": "light"
     },
     "output_type": "display_data"
    }
   ],
   "source": [
    "# importing package\n",
    "import matplotlib.pyplot as plt\n",
    " \n",
    "# create data\n",
    "x = ['A', 'B', 'C', 'D']\n",
    "y1 = [10, 20, 10, 30]\n",
    "y2 = [20, 25, 15, 25]\n",
    " \n",
    "# plot bars in stack manner\n",
    "plt.bar(x, y1, color='r')\n",
    "plt.bar(x, y2, bottom=y1, color='b')\n",
    "plt.show()"
   ]
  },
  {
   "cell_type": "code",
   "execution_count": null,
   "id": "d0e3f6f0",
   "metadata": {},
   "outputs": [],
   "source": []
  }
 ],
 "metadata": {
  "kernelspec": {
   "display_name": "Python 3",
   "language": "python",
   "name": "python3"
  },
  "language_info": {
   "codemirror_mode": {
    "name": "ipython",
    "version": 3
   },
   "file_extension": ".py",
   "mimetype": "text/x-python",
   "name": "python",
   "nbconvert_exporter": "python",
   "pygments_lexer": "ipython3",
   "version": "3.8.8"
  }
 },
 "nbformat": 4,
 "nbformat_minor": 5
}
